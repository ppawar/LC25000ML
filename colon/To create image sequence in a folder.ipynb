{
 "cells": [
  {
   "cell_type": "code",
   "execution_count": 2,
   "metadata": {},
   "outputs": [],
   "source": [
    "#For colon_aca\n",
    "import os\n",
    "os.getcwd()\n",
    "collection = (\"C:\\\\pravinp\\\\research\\\\CSE351\\\\LungCancerClassification\\\\binary-classification\\\\colon_image_sets\\\\colon_aca\") \n",
    "for i, filename in enumerate(os.listdir(collection)):\n",
    "    os.rename(\"C:\\\\pravinp\\\\research\\\\CSE351\\\\LungCancerClassification\\\\binary-classification\\\\colon_image_sets\\\\colon_aca\\\\\" + filename, \"C:\\\\pravinp\\\\research\\\\CSE351\\\\LungCancerClassification\\\\binary-classification\\\\dataset\\\\train\\\\colon_aca\\\\\" + str(i) + \".jpg\")"
   ]
  },
  {
   "cell_type": "code",
   "execution_count": 4,
   "metadata": {},
   "outputs": [],
   "source": [
    "#For colon_n\n",
    "collection = (\"C:\\\\pravinp\\\\research\\\\CSE351\\\\LungCancerClassification\\\\binary-classification\\\\colon_image_sets\\\\colon_n\") \n",
    "for i, filename in enumerate(os.listdir(collection)):\n",
    "    os.rename(\"C:\\\\pravinp\\\\research\\\\CSE351\\\\LungCancerClassification\\\\binary-classification\\\\colon_image_sets\\\\colon_n\\\\\" + filename, \"C:\\\\pravinp\\\\research\\\\CSE351\\\\LungCancerClassification\\\\binary-classification\\\\dataset\\\\train\\\\colon_n\\\\\" + str(i) + \".jpg\")"
   ]
  },
  {
   "cell_type": "code",
   "execution_count": 9,
   "metadata": {},
   "outputs": [],
   "source": [
    "collection = (\"C:\\\\pravinp\\\\research\\\\CSE351\\\\LungCancerClassification\\\\Multiclass-classification\\\\lung_image_sets\\\\lung_aca\") \n",
    "for i, filename in enumerate(os.listdir(collection)):\n",
    "    os.rename(\"C:\\\\pravinp\\\\research\\\\CSE351\\\\LungCancerClassification\\\\Multiclass-classification\\\\lung_image_sets\\\\lung_aca\\\\\" + filename, \"C:\\\\pravinp\\\\research\\\\CSE351\\\\LungCancerClassification\\\\Multiclass-classification\\\\dataset\\\\train\\\\lung_aca\\\\\" + str(i) + \".jpg\")"
   ]
  },
  {
   "cell_type": "code",
   "execution_count": 10,
   "metadata": {},
   "outputs": [],
   "source": [
    "collection = (\"C:\\\\pravinp\\\\research\\\\CSE351\\\\LungCancerClassification\\\\Multiclass-classification\\\\lung_image_sets\\\\lung_n\") \n",
    "for i, filename in enumerate(os.listdir(collection)):\n",
    "    os.rename(\"C:\\\\pravinp\\\\research\\\\CSE351\\\\LungCancerClassification\\\\Multiclass-classification\\\\lung_image_sets\\\\lung_n\\\\\" + filename, \"C:\\\\pravinp\\\\research\\\\CSE351\\\\LungCancerClassification\\\\Multiclass-classification\\\\dataset\\\\train\\\\lung_n\\\\\" + str(i) + \".jpg\")"
   ]
  },
  {
   "cell_type": "code",
   "execution_count": 11,
   "metadata": {},
   "outputs": [],
   "source": [
    "collection = (\"C:\\\\pravinp\\\\research\\\\CSE351\\\\LungCancerClassification\\\\Multiclass-classification\\\\lung_image_sets\\\\lung_scc\") \n",
    "for i, filename in enumerate(os.listdir(collection)):\n",
    "    os.rename(\"C:\\\\pravinp\\\\research\\\\CSE351\\\\LungCancerClassification\\\\Multiclass-classification\\\\lung_image_sets\\\\lung_scc\\\\\" + filename, \"C:\\\\pravinp\\\\research\\\\CSE351\\\\LungCancerClassification\\\\Multiclass-classification\\\\dataset\\\\train\\\\lung_scc\\\\\" + str(i) + \".jpg\")"
   ]
  },
  {
   "cell_type": "code",
   "execution_count": null,
   "metadata": {},
   "outputs": [],
   "source": []
  }
 ],
 "metadata": {
  "kernelspec": {
   "display_name": "Python 3",
   "language": "python",
   "name": "python3"
  },
  "language_info": {
   "codemirror_mode": {
    "name": "ipython",
    "version": 3
   },
   "file_extension": ".py",
   "mimetype": "text/x-python",
   "name": "python",
   "nbconvert_exporter": "python",
   "pygments_lexer": "ipython3",
   "version": "3.7.7"
  }
 },
 "nbformat": 4,
 "nbformat_minor": 4
}
